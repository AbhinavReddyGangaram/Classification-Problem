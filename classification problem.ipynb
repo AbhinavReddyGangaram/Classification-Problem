{
 "cells": [
  {
   "cell_type": "markdown",
   "id": "ec4b19ac",
   "metadata": {},
   "source": [
    "# IMPORTING LIBRARIES"
   ]
  },
  {
   "cell_type": "code",
   "execution_count": 1,
   "id": "18e17522",
   "metadata": {},
   "outputs": [
    {
     "name": "stderr",
     "output_type": "stream",
     "text": [
      "C:\\Users\\GAR1\\anaconda3\\lib\\site-packages\\pandas\\core\\arrays\\masked.py:60: UserWarning: Pandas requires version '1.3.6' or newer of 'bottleneck' (version '1.3.5' currently installed).\n",
      "  from pandas.core import (\n"
     ]
    }
   ],
   "source": [
    "import pandas as pd\n",
    "import numpy as np\n",
    "import matplotlib.pyplot as plt\n",
    "import seaborn as sns\n",
    "%matplotlib inline\n",
    "from sklearn.pipeline import Pipeline\n",
    "from sklearn.preprocessing import MinMaxScaler, StandardScaler, OneHotEncoder\n",
    "from sklearn.impute import SimpleImputer\n",
    "from sklearn.compose import ColumnTransformer\n",
    "from category_encoders import OrdinalEncoder as oe\n",
    "from catboost import CatBoostClassifier\n",
    "from sklearn.model_selection import train_test_split\n",
    "from catboost import Pool, cv\n",
    "from sklearn.metrics import roc_curve, roc_auc_score\n",
    "import optuna"
   ]
  },
  {
   "cell_type": "markdown",
   "id": "cf1df9ca",
   "metadata": {},
   "source": [
    "# LOADING OF DATA"
   ]
  },
  {
   "cell_type": "code",
   "execution_count": 2,
   "id": "2d5891f2",
   "metadata": {},
   "outputs": [],
   "source": [
    "train = pd.read_csv('training_set_features.csv', index_col='respondent_id')"
   ]
  },
  {
   "cell_type": "code",
   "execution_count": 3,
   "id": "7cc08c73",
   "metadata": {},
   "outputs": [],
   "source": [
    "test = pd.read_csv('test_set_features.csv', index_col='respondent_id')"
   ]
  },
  {
   "cell_type": "code",
   "execution_count": 4,
   "id": "3051505b",
   "metadata": {},
   "outputs": [],
   "source": [
    "labels = pd.read_csv('./training_set_labels.csv', index_col='respondent_id')"
   ]
  },
  {
   "cell_type": "code",
   "execution_count": 5,
   "id": "07636a49",
   "metadata": {},
   "outputs": [],
   "source": [
    "num_cols = train.select_dtypes('number').columns"
   ]
  },
  {
   "cell_type": "code",
   "execution_count": 6,
   "id": "39c366ad",
   "metadata": {},
   "outputs": [],
   "source": [
    "cat_cols = ['race','sex','marital_status','rent_or_own','hhs_geo_region','census_msa','employment_industry','employment_occupation']"
   ]
  },
  {
   "cell_type": "code",
   "execution_count": 7,
   "id": "cf15d1e3",
   "metadata": {},
   "outputs": [],
   "source": [
    "ord_cols = ['age_group','education','income_poverty','employment_status']"
   ]
  },
  {
   "cell_type": "markdown",
   "id": "f92bca66",
   "metadata": {},
   "source": [
    "# Impute train"
   ]
  },
  {
   "cell_type": "code",
   "execution_count": 8,
   "id": "e1ab6083",
   "metadata": {},
   "outputs": [],
   "source": [
    "# Categorical columns None\n",
    "for col in (cat_cols+ord_cols):\n",
    "    train[col] = train[col].fillna(value='None')"
   ]
  },
  {
   "cell_type": "code",
   "execution_count": 9,
   "id": "846d2e53",
   "metadata": {},
   "outputs": [],
   "source": [
    "for col in num_cols:\n",
    "    train[col] = train[col].fillna(value=-1)"
   ]
  },
  {
   "cell_type": "markdown",
   "id": "38eeb852",
   "metadata": {},
   "source": [
    "# Impute test"
   ]
  },
  {
   "cell_type": "code",
   "execution_count": 10,
   "id": "c400fa57",
   "metadata": {},
   "outputs": [],
   "source": [
    "# Categorical columns None\n",
    "for col in (cat_cols+ord_cols):\n",
    "    test[col] = test[col].fillna(value='None')"
   ]
  },
  {
   "cell_type": "code",
   "execution_count": 11,
   "id": "6cf86efd",
   "metadata": {},
   "outputs": [],
   "source": [
    "for col in num_cols:\n",
    "    test[col] = test[col].fillna(value=-1)"
   ]
  },
  {
   "cell_type": "markdown",
   "id": "aac134bb",
   "metadata": {},
   "source": [
    "# train_test_split"
   ]
  },
  {
   "cell_type": "code",
   "execution_count": 12,
   "id": "38a14f30",
   "metadata": {},
   "outputs": [],
   "source": [
    "X_train, X_test, y_train, y_test = train_test_split( train, labels, test_size=0.25, random_state=42)"
   ]
  },
  {
   "cell_type": "code",
   "execution_count": 13,
   "id": "7cc56a49",
   "metadata": {},
   "outputs": [],
   "source": [
    "# Get the index number of categorical features\n",
    "categorical_features_indices = np.where(X_train.dtypes != float)[0]"
   ]
  },
  {
   "cell_type": "code",
   "execution_count": 15,
   "id": "cba0ed14",
   "metadata": {},
   "outputs": [],
   "source": [
    "train_dataset = Pool(data=X_train,\n",
    "                     label=y_train.xyz_vaccine,\n",
    "                     cat_features = categorical_features_indices)"
   ]
  },
  {
   "cell_type": "markdown",
   "id": "9906943e",
   "metadata": {},
   "source": [
    "# optimized values of parameters"
   ]
  },
  {
   "cell_type": "code",
   "execution_count": 16,
   "id": "5123f40d",
   "metadata": {},
   "outputs": [],
   "source": [
    "final_model = CatBoostClassifier(verbose=False,  cat_features=categorical_features_indices,iterations=500,\n",
    "    learning_rate=0.05745075659543725,\n",
    "    random_strength=4,\n",
    "    bagging_temperature=8,\n",
    "    max_bin=5,\n",
    "    grow_policy='Lossguide',\n",
    "    min_data_in_leaf=7,\n",
    "    max_depth=6,\n",
    "    l2_leaf_reg=11.323094517862078,\n",
    "    one_hot_max_size=10,\n",
    "    auto_class_weights='Balanced')"
   ]
  },
  {
   "cell_type": "code",
   "execution_count": 17,
   "id": "f24c0af0",
   "metadata": {},
   "outputs": [
    {
     "data": {
      "text/plain": [
       "<catboost.core.CatBoostClassifier at 0x170664da230>"
      ]
     },
     "execution_count": 17,
     "metadata": {},
     "output_type": "execute_result"
    }
   ],
   "source": [
    "final_model.fit(X_train, y_train.xyz_vaccine)"
   ]
  },
  {
   "cell_type": "code",
   "execution_count": 18,
   "id": "d40c0c63",
   "metadata": {},
   "outputs": [],
   "source": [
    "predictions_h1 = final_model.predict_proba(X_test)"
   ]
  },
  {
   "cell_type": "code",
   "execution_count": 19,
   "id": "58f904cf",
   "metadata": {},
   "outputs": [],
   "source": [
    "predictions_h1 = predictions_h1[:,1].reshape(-1,1)"
   ]
  },
  {
   "cell_type": "code",
   "execution_count": 20,
   "id": "4080ce69",
   "metadata": {},
   "outputs": [],
   "source": [
    "def plot_roc(y_true, y_score, label_name, ax):\n",
    "    fpr, tpr, thresholds = roc_curve(y_true, y_score)\n",
    "    ax.plot(fpr, tpr)\n",
    "    ax.plot([0, 1], [0, 1], color='grey', linestyle='--')\n",
    "    ax.set_ylabel('TPR')\n",
    "    ax.set_xlabel('FPR')\n",
    "    ax.set_title(\n",
    "        f\"{label_name}: AUC = {roc_auc_score(y_true, y_score):.4f}\"\n",
    "    )"
   ]
  },
  {
   "cell_type": "code",
   "execution_count": 21,
   "id": "91fed447",
   "metadata": {},
   "outputs": [
    {
     "data": {
      "image/png": "[encoded data removed]",
      "text/plain": [
       "<Figure size 1000x800 with 1 Axes>"
      ]
     },
     "metadata": {},
     "output_type": "display_data"
    }
   ],
   "source": [
    "fig, ax = plt.subplots(1, 1, figsize=(10, 8))\n",
    "plot_roc(\n",
    "    y_test['xyz_vaccine'], \n",
    "    predictions_h1, \n",
    "    'xyz_vaccine',\n",
    "    ax=ax\n",
    ")"
   ]
  },
  {
   "cell_type": "markdown",
   "id": "a938530a",
   "metadata": {},
   "source": [
    "# roc_auc_score"
   ]
  },
  {
   "cell_type": "code",
   "execution_count": 23,
   "id": "24bfe9af",
   "metadata": {},
   "outputs": [
    {
     "data": {
      "text/plain": [
       "0.8698071489329731"
      ]
     },
     "execution_count": 23,
     "metadata": {},
     "output_type": "execute_result"
    }
   ],
   "source": [
    "roc_auc_score(y_test.xyz_vaccine, predictions_h1)"
   ]
  },
  {
   "cell_type": "code",
   "execution_count": 24,
   "id": "199b988f",
   "metadata": {},
   "outputs": [],
   "source": [
    "train_dataset_se = Pool(data=X_train,\n",
    "                     label=y_train.seasonal_vaccine,\n",
    "                     cat_features = categorical_features_indices)"
   ]
  },
  {
   "cell_type": "code",
   "execution_count": 25,
   "id": "7ef1dab6",
   "metadata": {},
   "outputs": [],
   "source": [
    "final_model_se = CatBoostClassifier(verbose=False,  cat_features=categorical_features_indices,iterations=1500,\n",
    "    learning_rate=0.015393853845985255,\n",
    "    random_strength=3,\n",
    "    bagging_temperature=7,\n",
    "    max_bin=8,\n",
    "    grow_policy='Lossguide',\n",
    "    min_data_in_leaf=1,\n",
    "    max_depth=5,\n",
    "    l2_leaf_reg=0.03977425239611938,\n",
    "    one_hot_max_size=500,\n",
    "    auto_class_weights='Balanced')"
   ]
  },
  {
   "cell_type": "code",
   "execution_count": 26,
   "id": "b0b1464e",
   "metadata": {},
   "outputs": [
    {
     "data": {
      "text/plain": [
       "<catboost.core.CatBoostClassifier at 0x170630d39a0>"
      ]
     },
     "execution_count": 26,
     "metadata": {},
     "output_type": "execute_result"
    }
   ],
   "source": [
    "final_model_se.fit(X_train, y_train.seasonal_vaccine)"
   ]
  },
  {
   "cell_type": "code",
   "execution_count": 27,
   "id": "ca0a71db",
   "metadata": {},
   "outputs": [],
   "source": [
    "predictions_se = final_model_se.predict_proba(X_test)"
   ]
  },
  {
   "cell_type": "code",
   "execution_count": 28,
   "id": "bdd2fd2c",
   "metadata": {},
   "outputs": [],
   "source": [
    "predictions_se = predictions_se[:,1].reshape(-1,1)"
   ]
  },
  {
   "cell_type": "code",
   "execution_count": 29,
   "id": "0ca74624",
   "metadata": {},
   "outputs": [
    {
     "data": {
      "image/png": "[encoded data removed]",
      "text/plain": [
       "<Figure size 1000x800 with 1 Axes>"
      ]
     },
     "metadata": {},
     "output_type": "display_data"
    }
   ],
   "source": [
    "fig, ax = plt.subplots(1, 1, figsize=(10, 8))\n",
    "plot_roc(\n",
    "    y_test['seasonal_vaccine'], \n",
    "    predictions_se, \n",
    "    'seasonal_vaccine',\n",
    "    ax=ax\n",
    ")"
   ]
  },
  {
   "cell_type": "markdown",
   "id": "4f18afcd",
   "metadata": {},
   "source": [
    "# roc_auc_score"
   ]
  },
  {
   "cell_type": "code",
   "execution_count": 30,
   "id": "ebe87179",
   "metadata": {},
   "outputs": [
    {
     "data": {
      "text/plain": [
       "0.8652287312418534"
      ]
     },
     "execution_count": 30,
     "metadata": {},
     "output_type": "execute_result"
    }
   ],
   "source": [
    "roc_auc_score(y_test.seasonal_vaccine, predictions_se)"
   ]
  },
  {
   "cell_type": "markdown",
   "id": "9afa96d6",
   "metadata": {},
   "source": [
    "# combined roc_auc_score"
   ]
  },
  {
   "cell_type": "code",
   "execution_count": 31,
   "id": "105fc66b",
   "metadata": {},
   "outputs": [
    {
     "data": {
      "text/plain": [
       "0.8675179400874132"
      ]
     },
     "execution_count": 31,
     "metadata": {},
     "output_type": "execute_result"
    }
   ],
   "source": [
    "# Let's see the score combined of the two best predictions\n",
    "roc_auc_score(y_test, np.hstack((predictions_h1, predictions_se)))"
   ]
  },
  {
   "cell_type": "markdown",
   "id": "24026b94",
   "metadata": {},
   "source": [
    "# retrain on full dataset"
   ]
  },
  {
   "cell_type": "markdown",
   "id": "1e0fb7a8",
   "metadata": {},
   "source": [
    "# seasonal"
   ]
  },
  {
   "cell_type": "code",
   "execution_count": 32,
   "id": "c37c467c",
   "metadata": {},
   "outputs": [],
   "source": [
    "final_model_se.fit(train, labels.seasonal_vaccine)\n",
    "final_se = final_model_se.predict_proba(test)\n",
    "final_se = final_se[:,1].reshape(-1,1)"
   ]
  },
  {
   "cell_type": "markdown",
   "id": "c2724176",
   "metadata": {},
   "source": [
    "# xyz"
   ]
  },
  {
   "cell_type": "code",
   "execution_count": 33,
   "id": "3009df5d",
   "metadata": {},
   "outputs": [],
   "source": [
    "final_model.fit(train, labels.xyz_vaccine)\n",
    "final_h1 = final_model.predict_proba(test)\n",
    "final_h1 = final_h1[:,1].reshape(-1,1)"
   ]
  },
  {
   "cell_type": "markdown",
   "id": "1a99d031",
   "metadata": {},
   "source": [
    "# submission"
   ]
  },
  {
   "cell_type": "code",
   "execution_count": 34,
   "id": "b6ec5407",
   "metadata": {},
   "outputs": [],
   "source": [
    "submission_df = pd.read_csv(\"submission_format.csv\", \n",
    "                            index_col=\"respondent_id\")"
   ]
  },
  {
   "cell_type": "code",
   "execution_count": 35,
   "id": "96f63403",
   "metadata": {},
   "outputs": [
    {
     "data": {
      "text/html": [
       "<div>\n",
       "<style scoped>\n",
       "    .dataframe tbody tr th:only-of-type {\n",
       "        vertical-align: middle;\n",
       "    }\n",
       "\n",
       "    .dataframe tbody tr th {\n",
       "        vertical-align: top;\n",
       "    }\n",
       "\n",
       "    .dataframe thead th {\n",
       "        text-align: right;\n",
       "    }\n",
       "</style>\n",
       "<table border=\"1\" class=\"dataframe\">\n",
       "  <thead>\n",
       "    <tr style=\"text-align: right;\">\n",
       "      <th></th>\n",
       "      <th>xyz_vaccine</th>\n",
       "      <th>seasonal_vaccine</th>\n",
       "    </tr>\n",
       "    <tr>\n",
       "      <th>respondent_id</th>\n",
       "      <th></th>\n",
       "      <th></th>\n",
       "    </tr>\n",
       "  </thead>\n",
       "  <tbody>\n",
       "    <tr>\n",
       "      <th>26707</th>\n",
       "      <td>0.385558</td>\n",
       "      <td>0.271276</td>\n",
       "    </tr>\n",
       "    <tr>\n",
       "      <th>26708</th>\n",
       "      <td>0.102702</td>\n",
       "      <td>0.039441</td>\n",
       "    </tr>\n",
       "    <tr>\n",
       "      <th>26709</th>\n",
       "      <td>0.475290</td>\n",
       "      <td>0.733715</td>\n",
       "    </tr>\n",
       "    <tr>\n",
       "      <th>26710</th>\n",
       "      <td>0.876236</td>\n",
       "      <td>0.899717</td>\n",
       "    </tr>\n",
       "    <tr>\n",
       "      <th>26711</th>\n",
       "      <td>0.654207</td>\n",
       "      <td>0.506036</td>\n",
       "    </tr>\n",
       "  </tbody>\n",
       "</table>\n",
       "</div>"
      ],
      "text/plain": [
       "               xyz_vaccine  seasonal_vaccine\n",
       "respondent_id                               \n",
       "26707             0.385558          0.271276\n",
       "26708             0.102702          0.039441\n",
       "26709             0.475290          0.733715\n",
       "26710             0.876236          0.899717\n",
       "26711             0.654207          0.506036"
      ]
     },
     "execution_count": 35,
     "metadata": {},
     "output_type": "execute_result"
    }
   ],
   "source": [
    "# Make sure we have the rows in the same order\n",
    "np.testing.assert_array_equal(test.index.values, \n",
    "                              submission_df.index.values)\n",
    "\n",
    "# Save predictions to submission data frame\n",
    "submission_df[\"xyz_vaccine\"] = final_h1\n",
    "submission_df[\"seasonal_vaccine\"] = final_se\n",
    "\n",
    "submission_df.head()"
   ]
  },
  {
   "cell_type": "code",
   "execution_count": 36,
   "id": "484dbdf5",
   "metadata": {},
   "outputs": [],
   "source": [
    "submission_df.to_csv('submission_Classification.csv', index=True)"
   ]
  }
 ],
 "metadata": {
  "kernelspec": {
   "display_name": "Python 3 (ipykernel)",
   "language": "python",
   "name": "python3"
  },
  "language_info": {
   "codemirror_mode": {
    "name": "ipython",
    "version": 3
   },
   "file_extension": ".py",
   "mimetype": "text/x-python",
   "name": "python",
   "nbconvert_exporter": "python",
   "pygments_lexer": "ipython3",
   "version": "3.10.13"
  }
 },
 "nbformat": 4,
 "nbformat_minor": 5
}
